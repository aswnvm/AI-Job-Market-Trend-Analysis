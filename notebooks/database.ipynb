{
 "cells": [
  {
   "cell_type": "code",
   "execution_count": 2,
   "id": "b334a6e8",
   "metadata": {},
   "outputs": [],
   "source": [
    "import pandas as pd\n",
    "import csv\n",
    "from sqlalchemy import create_engine"
   ]
  },
  {
   "cell_type": "code",
   "execution_count": 3,
   "id": "4d9665bf",
   "metadata": {},
   "outputs": [],
   "source": [
    "server = r'CICADA3301\\SQLEXPRESS'\n",
    "database = r'AiJobMarket'\n",
    "username = r'CICADA3301\\Aswin'\n",
    "password = '3301'"
   ]
  },
  {
   "cell_type": "code",
   "execution_count": 10,
   "id": "3dbaf7d3",
   "metadata": {},
   "outputs": [
    {
     "name": "stdout",
     "output_type": "stream",
     "text": [
      "     job_id              job_title experience_level employment_type  \\\n",
      "0  AI023890     Research Scientist        Mid-Level       Full-Time   \n",
      "1  AI023891      Robotics Engineer        Mid-Level       Freelance   \n",
      "2  AI023892  AI Research Scientist        Mid-Level       Full-Time   \n",
      "3  AI023893        ML Ops Engineer     Senior-Level       Freelance   \n",
      "4  AI023894          AI Consultant      Entry-Level        Contract   \n",
      "\n",
      "  company_location company_size employee_residence  remote_ratio  \\\n",
      "0   United Kingdom        Large     United Kingdom            50   \n",
      "1           France       Medium            Belgium            50   \n",
      "2      Netherlands        Large        Netherlands             0   \n",
      "3      Netherlands        Small        Netherlands             0   \n",
      "4            Japan       Medium              Japan           100   \n",
      "\n",
      "                               required_skills required_education  \\\n",
      "0    Python,Computer Vision,Statistics,Tableau          Associate   \n",
      "1        Git,Kubernetes,Computer Vision,Python                PhD   \n",
      "2                       Git,PyTorch,TensorFlow                PhD   \n",
      "3  Computer Vision,Git,Docker,Azure,TensorFlow           Bachelor   \n",
      "4                           PyTorch,Docker,GCP          Associate   \n",
      "\n",
      "   experience_years        industry  benefits_score posting_date  salary_usd  \n",
      "0                 3  Transportation             7.7   2024-11-24      113468  \n",
      "1                 3      Automotive             8.6   2024-07-25       94278  \n",
      "2                 3   Manufacturing             5.8   2025-01-15      124121  \n",
      "3                 7   Manufacturing             6.5   2024-07-04      118336  \n",
      "4                 1       Education             8.5   2024-08-14       63446  \n"
     ]
    }
   ],
   "source": [
    "engine = create_engine(f\"mssql+pyodbc://{server}/{database}?driver=ODBC+Driver+17+for+SQL+Server&trusted_connection=yes\")\n",
    "# engine = create_engine(f\"mssql+pyodbc://{username}:{password}@{server}/{database}?driver=ODBC+Driver+17+for+SQL+Server&trusted_connection=yes\")\n",
    "db_data = pd.read_sql_query(\"SELECT * FROM gold.salary_prediction_features\", engine)\n",
    "print(db_data.head())"
   ]
  },
  {
   "cell_type": "code",
   "execution_count": null,
   "id": "283bf97c",
   "metadata": {},
   "outputs": [],
   "source": []
  }
 ],
 "metadata": {
  "kernelspec": {
   "display_name": "Python 3",
   "language": "python",
   "name": "python3"
  },
  "language_info": {
   "codemirror_mode": {
    "name": "ipython",
    "version": 3
   },
   "file_extension": ".py",
   "mimetype": "text/x-python",
   "name": "python",
   "nbconvert_exporter": "python",
   "pygments_lexer": "ipython3",
   "version": "3.13.2"
  }
 },
 "nbformat": 4,
 "nbformat_minor": 5
}
